{
  "nbformat": 4,
  "nbformat_minor": 0,
  "metadata": {
    "colab": {
      "provenance": [],
      "include_colab_link": true
    },
    "kernelspec": {
      "name": "python3",
      "display_name": "Python 3"
    },
    "language_info": {
      "name": "python"
    }
  },
  "cells": [
    {
      "cell_type": "markdown",
      "metadata": {
        "id": "view-in-github",
        "colab_type": "text"
      },
      "source": [
        "<a href=\"https://colab.research.google.com/github/altamashalk/py/blob/master/numpy_introduction2.ipynb\" target=\"_parent\"><img src=\"https://colab.research.google.com/assets/colab-badge.svg\" alt=\"Open In Colab\"/></a>"
      ]
    },
    {
      "cell_type": "markdown",
      "source": [
        "# 1. NumPy Attributes"
      ],
      "metadata": {
        "id": "2umHrfB0YwRL"
      }
    },
    {
      "cell_type": "code",
      "execution_count": null,
      "metadata": {
        "id": "bCIHZqpIQ057"
      },
      "outputs": [],
      "source": [
        "import numpy as np"
      ]
    },
    {
      "cell_type": "code",
      "source": [
        "x1=np.random.randint(20,size=5) #one dimensional array\n",
        "print(x1)"
      ],
      "metadata": {
        "id": "fvoyy3alZBpU",
        "colab": {
          "base_uri": "https://localhost:8080/"
        },
        "outputId": "c3fcdd87-e8e5-4ca9-cdaa-703f0b660b39"
      },
      "execution_count": null,
      "outputs": [
        {
          "output_type": "stream",
          "name": "stdout",
          "text": [
            "[ 6 11  5 17  9]\n"
          ]
        }
      ]
    },
    {
      "cell_type": "code",
      "source": [
        "x2=np.random.randint(10,size=(3,4)) #Two dimensional array\n",
        "print(x2)"
      ],
      "metadata": {
        "id": "LgMO1Bx3aiJ9",
        "colab": {
          "base_uri": "https://localhost:8080/"
        },
        "outputId": "47dcfbfb-d342-4a77-d3d6-d68b18877bbb"
      },
      "execution_count": null,
      "outputs": [
        {
          "output_type": "stream",
          "name": "stdout",
          "text": [
            "[[9 7 5 0]\n",
            " [0 3 4 7]\n",
            " [9 8 3 8]]\n"
          ]
        }
      ]
    },
    {
      "cell_type": "code",
      "source": [
        "x3=np.random.randint(10,size=(3,4,5)) #Three dimensional array\n",
        "print(x3)"
      ],
      "metadata": {
        "id": "EUzGBKMMa0PS",
        "colab": {
          "base_uri": "https://localhost:8080/"
        },
        "outputId": "c8af8310-a3c5-4258-f2e0-b5081cbaf638"
      },
      "execution_count": null,
      "outputs": [
        {
          "output_type": "stream",
          "name": "stdout",
          "text": [
            "[[[4 0 4 3 6]\n",
            "  [3 1 9 2 2]\n",
            "  [0 3 5 1 8]\n",
            "  [5 3 0 4 1]]\n",
            "\n",
            " [[1 7 4 5 2]\n",
            "  [7 4 3 2 6]\n",
            "  [8 7 5 7 3]\n",
            "  [2 8 0 7 9]]\n",
            "\n",
            " [[6 9 2 4 0]\n",
            "  [5 6 6 1 8]\n",
            "  [9 4 0 6 1]\n",
            "  [9 5 9 8 4]]]\n"
          ]
        }
      ]
    },
    {
      "cell_type": "code",
      "source": [
        "print(\"x1 ndimension: \", x1.ndim)\n",
        "print(\"x1 shape: \",x1.shape)\n",
        "print(\"x1 size: \",x1.size)\n",
        "print(\"x1 Data Type: \", x1.dtype)\n",
        "print(\"x1 size of element\",x1.itemsize,'bytes')\n",
        "print(\"x1 size of array\",x1.nbytes,\"bytes\")"
      ],
      "metadata": {
        "id": "rPacAQWlbfys",
        "colab": {
          "base_uri": "https://localhost:8080/"
        },
        "outputId": "7309793f-9f73-46ad-a5d5-440988c8f991"
      },
      "execution_count": null,
      "outputs": [
        {
          "output_type": "stream",
          "name": "stdout",
          "text": [
            "x1 ndimension:  1\n",
            "x1 shape:  (5,)\n",
            "x1 size:  5\n",
            "x1 Data Type:  int64\n",
            "x1 size of element 8 bytes\n",
            "x1 size of array 40 bytes\n"
          ]
        }
      ]
    },
    {
      "cell_type": "code",
      "source": [
        "print(\"x2 ndimension: \", x2.ndim)\n",
        "print(\"x2 shape: \",x2.shape)\n",
        "print(\"x2 size: \",x2.size)\n",
        "print(\"x2 Data Type: \", x2.dtype)\n",
        "print(\"x2 size in bytes\",x2.itemsize)\n",
        "print(\"x2 size of array\",x2.nbytes,\"bytes\")"
      ],
      "metadata": {
        "id": "2zI-cTC7cGZr",
        "colab": {
          "base_uri": "https://localhost:8080/"
        },
        "outputId": "7a044838-7228-48f9-f187-e2104cdbc942"
      },
      "execution_count": null,
      "outputs": [
        {
          "output_type": "stream",
          "name": "stdout",
          "text": [
            "x2 ndimension:  2\n",
            "x2 shape:  (3, 4)\n",
            "x2 size:  12\n",
            "x2 Data Type:  int64\n",
            "x2 size in bytes 8\n",
            "x2 size of array 96 bytes\n"
          ]
        }
      ]
    },
    {
      "cell_type": "code",
      "source": [
        "print(\"x3 ndimension: \", x3.ndim)\n",
        "print(\"x3 shape: \",x3.shape)\n",
        "print(\"x3 size: \",x3.size)\n",
        "print(\"x3 Data Type: \", x3.dtype)\n",
        "print(\"x3 size in bytes\",x3.itemsize)\n",
        "print(\"x3 size of array\",x3.nbytes,\"bytes\")"
      ],
      "metadata": {
        "id": "Vud_0SedIll8",
        "colab": {
          "base_uri": "https://localhost:8080/"
        },
        "outputId": "2427bbaa-361f-499b-9fb5-c6e740a8c4bd"
      },
      "execution_count": null,
      "outputs": [
        {
          "output_type": "stream",
          "name": "stdout",
          "text": [
            "x3 ndimension:  3\n",
            "x3 shape:  (3, 4, 5)\n",
            "x3 size:  60\n",
            "x3 Data Type:  int64\n",
            "x3 size in bytes 8\n",
            "x3 size of array 480 bytes\n"
          ]
        }
      ]
    },
    {
      "cell_type": "markdown",
      "source": [
        "# 2. Array Indexing"
      ],
      "metadata": {
        "id": "aClAsQPQKgML"
      }
    },
    {
      "cell_type": "code",
      "source": [
        "x1[0]"
      ],
      "metadata": {
        "id": "Y2zGrD5rKedB",
        "colab": {
          "base_uri": "https://localhost:8080/"
        },
        "outputId": "5abd48d8-d19f-4157-f261-b40c7f3d28b6"
      },
      "execution_count": null,
      "outputs": [
        {
          "output_type": "execute_result",
          "data": {
            "text/plain": [
              "np.int64(6)"
            ]
          },
          "metadata": {},
          "execution_count": 12
        }
      ]
    },
    {
      "cell_type": "code",
      "source": [
        "x1[2]"
      ],
      "metadata": {
        "id": "CrCdFEIiM93f",
        "colab": {
          "base_uri": "https://localhost:8080/"
        },
        "outputId": "e923cf42-73a2-4c95-9b6a-06e069b82e79"
      },
      "execution_count": null,
      "outputs": [
        {
          "output_type": "execute_result",
          "data": {
            "text/plain": [
              "np.int64(5)"
            ]
          },
          "metadata": {},
          "execution_count": 9
        }
      ]
    },
    {
      "cell_type": "code",
      "source": [
        "x1[-1]"
      ],
      "metadata": {
        "id": "DhSb6SA6k_yb",
        "colab": {
          "base_uri": "https://localhost:8080/"
        },
        "outputId": "2ca7eb74-fd59-4850-e555-11fedbf2c69a"
      },
      "execution_count": null,
      "outputs": [
        {
          "output_type": "execute_result",
          "data": {
            "text/plain": [
              "np.int64(9)"
            ]
          },
          "metadata": {},
          "execution_count": 13
        }
      ]
    },
    {
      "cell_type": "code",
      "source": [
        "x1[-3]"
      ],
      "metadata": {
        "id": "hEgsBDQ0NCnw",
        "colab": {
          "base_uri": "https://localhost:8080/"
        },
        "outputId": "fe75f8d1-8cbf-4bbb-ab96-d855828899b2"
      },
      "execution_count": null,
      "outputs": [
        {
          "output_type": "execute_result",
          "data": {
            "text/plain": [
              "np.int64(5)"
            ]
          },
          "metadata": {},
          "execution_count": 14
        }
      ]
    },
    {
      "cell_type": "code",
      "source": [
        "for var1 in range(5):\n",
        "  print(x1[var1])\n",
        "  #method used as in other languages"
      ],
      "metadata": {
        "id": "6LWoAW6RkBvJ",
        "colab": {
          "base_uri": "https://localhost:8080/"
        },
        "outputId": "58f89530-ccae-4b36-c801-50572fb90d49"
      },
      "execution_count": null,
      "outputs": [
        {
          "output_type": "stream",
          "name": "stdout",
          "text": [
            "6\n",
            "11\n",
            "5\n",
            "17\n",
            "9\n"
          ]
        }
      ]
    },
    {
      "cell_type": "code",
      "source": [
        "x2"
      ],
      "metadata": {
        "colab": {
          "base_uri": "https://localhost:8080/"
        },
        "id": "xwNLJhpfYv3B",
        "outputId": "9d58cdd2-6d0d-465a-d310-2390399ff5f3"
      },
      "execution_count": null,
      "outputs": [
        {
          "output_type": "execute_result",
          "data": {
            "text/plain": [
              "array([[9, 7, 5, 0],\n",
              "       [0, 3, 4, 7],\n",
              "       [9, 8, 3, 8]])"
            ]
          },
          "metadata": {},
          "execution_count": 18
        }
      ]
    },
    {
      "cell_type": "code",
      "source": [
        "x2[0,0]\n",
        "#x2"
      ],
      "metadata": {
        "id": "hsr_zvx5lQIo",
        "colab": {
          "base_uri": "https://localhost:8080/"
        },
        "outputId": "ef97cb4b-7c5a-41ac-eb47-8e4a40957a5c"
      },
      "execution_count": null,
      "outputs": [
        {
          "output_type": "execute_result",
          "data": {
            "text/plain": [
              "np.int64(9)"
            ]
          },
          "metadata": {},
          "execution_count": 17
        }
      ]
    },
    {
      "cell_type": "code",
      "source": [
        "x2[0,1]#first(zero)row and second column"
      ],
      "metadata": {
        "id": "rXMtbuRKlU8n",
        "colab": {
          "base_uri": "https://localhost:8080/"
        },
        "outputId": "c38e4fbf-5624-4e37-a7ea-e8f45a827e23"
      },
      "execution_count": null,
      "outputs": [
        {
          "output_type": "execute_result",
          "data": {
            "text/plain": [
              "np.int64(7)"
            ]
          },
          "metadata": {},
          "execution_count": 19
        }
      ]
    },
    {
      "cell_type": "code",
      "source": [
        "print(x2)\n",
        "x2[2,-1]# Third row and last element"
      ],
      "metadata": {
        "id": "bIDQFc6PlmKb",
        "colab": {
          "base_uri": "https://localhost:8080/"
        },
        "outputId": "dde0d634-75eb-44d1-bbdc-0deddaab1804"
      },
      "execution_count": null,
      "outputs": [
        {
          "output_type": "stream",
          "name": "stdout",
          "text": [
            "[[9 7 5 0]\n",
            " [0 3 4 7]\n",
            " [9 8 3 8]]\n"
          ]
        },
        {
          "output_type": "execute_result",
          "data": {
            "text/plain": [
              "np.int64(8)"
            ]
          },
          "metadata": {},
          "execution_count": 20
        }
      ]
    },
    {
      "cell_type": "code",
      "source": [
        "x2"
      ],
      "metadata": {
        "id": "2Rq5d-xOmFgM",
        "colab": {
          "base_uri": "https://localhost:8080/"
        },
        "outputId": "8c516a5d-04fc-46a1-bf42-d7834c8fa088"
      },
      "execution_count": null,
      "outputs": [
        {
          "output_type": "execute_result",
          "data": {
            "text/plain": [
              "array([[9, 7, 5, 0],\n",
              "       [0, 3, 4, 7],\n",
              "       [9, 8, 3, 8]])"
            ]
          },
          "metadata": {},
          "execution_count": 21
        }
      ]
    },
    {
      "cell_type": "code",
      "source": [
        "x1[2]=7.4\n",
        "x1"
      ],
      "metadata": {
        "id": "QjbTiXiImTXH",
        "colab": {
          "base_uri": "https://localhost:8080/"
        },
        "outputId": "79f4b9d7-fa75-4e4c-fd08-daf712a2b936"
      },
      "execution_count": null,
      "outputs": [
        {
          "output_type": "execute_result",
          "data": {
            "text/plain": [
              "array([ 6, 11,  7, 17,  9])"
            ]
          },
          "metadata": {},
          "execution_count": 22
        }
      ]
    },
    {
      "cell_type": "markdown",
      "source": [
        "# 3. Array Slicing"
      ],
      "metadata": {
        "id": "SWdD2T6wqY0T"
      }
    },
    {
      "cell_type": "code",
      "source": [
        "x4=np.arange(20)\n",
        "print(x4)"
      ],
      "metadata": {
        "id": "YxZut8gOqkAF",
        "colab": {
          "base_uri": "https://localhost:8080/"
        },
        "outputId": "d5c3ec19-4687-4653-a3f6-6748f4f36b55"
      },
      "execution_count": null,
      "outputs": [
        {
          "output_type": "stream",
          "name": "stdout",
          "text": [
            "[ 0  1  2  3  4  5  6  7  8  9 10 11 12 13 14 15 16 17 18 19]\n"
          ]
        }
      ]
    },
    {
      "cell_type": "markdown",
      "source": [
        "*variable_name[start: stop:step]*"
      ],
      "metadata": {
        "id": "-lElUs2iZnhB"
      }
    },
    {
      "cell_type": "code",
      "source": [
        "x4[:5]#slice first five elements i.e stop at 5th element"
      ],
      "metadata": {
        "id": "Sq1Zlymmq-2g",
        "colab": {
          "base_uri": "https://localhost:8080/"
        },
        "outputId": "b92b76c0-3ccd-4675-ad0e-1d41e1cad237"
      },
      "execution_count": null,
      "outputs": [
        {
          "output_type": "execute_result",
          "data": {
            "text/plain": [
              "array([0, 1, 2, 3, 4])"
            ]
          },
          "metadata": {},
          "execution_count": 24
        }
      ]
    },
    {
      "cell_type": "code",
      "source": [
        "x4[5:] # start after 5th element"
      ],
      "metadata": {
        "id": "LyRmk-TyrTYA",
        "colab": {
          "base_uri": "https://localhost:8080/"
        },
        "outputId": "273691f5-9261-4efa-f142-cbdea3c4bfa2"
      },
      "execution_count": null,
      "outputs": [
        {
          "output_type": "execute_result",
          "data": {
            "text/plain": [
              "array([ 5,  6,  7,  8,  9, 10, 11, 12, 13, 14, 15, 16, 17, 18, 19])"
            ]
          },
          "metadata": {},
          "execution_count": 25
        }
      ]
    },
    {
      "cell_type": "code",
      "source": [
        "x4[3:6]"
      ],
      "metadata": {
        "id": "GvVHpeq9sDSy",
        "colab": {
          "base_uri": "https://localhost:8080/"
        },
        "outputId": "c6646a51-10bd-4783-8179-08c9c65cee61"
      },
      "execution_count": null,
      "outputs": [
        {
          "output_type": "execute_result",
          "data": {
            "text/plain": [
              "array([3, 4, 5])"
            ]
          },
          "metadata": {},
          "execution_count": 26
        }
      ]
    },
    {
      "cell_type": "code",
      "source": [
        "x4[0::2]#every other element"
      ],
      "metadata": {
        "id": "HGK11r_OsYb7",
        "colab": {
          "base_uri": "https://localhost:8080/"
        },
        "outputId": "4862c0a1-5956-4bf4-bfc8-4d897dae4bda"
      },
      "execution_count": null,
      "outputs": [
        {
          "output_type": "execute_result",
          "data": {
            "text/plain": [
              "array([ 0,  2,  4,  6,  8, 10, 12, 14, 16, 18])"
            ]
          },
          "metadata": {},
          "execution_count": 27
        }
      ]
    },
    {
      "cell_type": "code",
      "source": [
        "x4[3:15:2]"
      ],
      "metadata": {
        "id": "WAkiLhjFsLr5",
        "colab": {
          "base_uri": "https://localhost:8080/"
        },
        "outputId": "59fb56cf-0d1c-4314-d0a8-9895afeb1a34"
      },
      "execution_count": null,
      "outputs": [
        {
          "output_type": "execute_result",
          "data": {
            "text/plain": [
              "array([ 3,  5,  7,  9, 11, 13])"
            ]
          },
          "metadata": {},
          "execution_count": 28
        }
      ]
    },
    {
      "cell_type": "code",
      "source": [
        "x4[-1::]"
      ],
      "metadata": {
        "id": "-yuleL4qsk4S",
        "colab": {
          "base_uri": "https://localhost:8080/"
        },
        "outputId": "15d8ba55-73e3-4c81-d9fb-c9d003498a7f"
      },
      "execution_count": null,
      "outputs": [
        {
          "output_type": "execute_result",
          "data": {
            "text/plain": [
              "array([19])"
            ]
          },
          "metadata": {},
          "execution_count": 29
        }
      ]
    },
    {
      "cell_type": "code",
      "source": [
        "x4[-1::-1]"
      ],
      "metadata": {
        "id": "_sO-7-VxsqFy",
        "colab": {
          "base_uri": "https://localhost:8080/"
        },
        "outputId": "bfd9816c-d9a8-4130-a0e0-b4ddead0db42"
      },
      "execution_count": null,
      "outputs": [
        {
          "output_type": "execute_result",
          "data": {
            "text/plain": [
              "array([19, 18, 17, 16, 15, 14, 13, 12, 11, 10,  9,  8,  7,  6,  5,  4,  3,\n",
              "        2,  1,  0])"
            ]
          },
          "metadata": {},
          "execution_count": 30
        }
      ]
    },
    {
      "cell_type": "code",
      "source": [
        "x4[7::-1]\n"
      ],
      "metadata": {
        "id": "W7y6xkQksx5r",
        "colab": {
          "base_uri": "https://localhost:8080/"
        },
        "outputId": "f5ed2425-458a-49ec-9a3d-851bcf5ee813"
      },
      "execution_count": null,
      "outputs": [
        {
          "output_type": "execute_result",
          "data": {
            "text/plain": [
              "array([7, 6, 5, 4, 3, 2, 1, 0])"
            ]
          },
          "metadata": {},
          "execution_count": 31
        }
      ]
    },
    {
      "cell_type": "code",
      "source": [
        "x4[7:3:-1]\n"
      ],
      "metadata": {
        "id": "gMzFsOHDOXXM",
        "colab": {
          "base_uri": "https://localhost:8080/"
        },
        "outputId": "737bead3-886c-446e-dec6-60125f313154"
      },
      "execution_count": null,
      "outputs": [
        {
          "output_type": "execute_result",
          "data": {
            "text/plain": [
              "array([7, 6, 5, 4])"
            ]
          },
          "metadata": {},
          "execution_count": 32
        }
      ]
    },
    {
      "cell_type": "code",
      "source": [
        "x2"
      ],
      "metadata": {
        "id": "x3jc_VQdtD3q",
        "colab": {
          "base_uri": "https://localhost:8080/"
        },
        "outputId": "7b86def7-adb1-468b-b793-85ab8bc55868"
      },
      "execution_count": null,
      "outputs": [
        {
          "output_type": "execute_result",
          "data": {
            "text/plain": [
              "array([[9, 7, 5, 0],\n",
              "       [0, 3, 4, 7],\n",
              "       [9, 8, 3, 8]])"
            ]
          },
          "metadata": {},
          "execution_count": 33
        }
      ]
    },
    {
      "cell_type": "code",
      "source": [
        "x2[0:2,:3]#two rows and three columns"
      ],
      "metadata": {
        "id": "t7Da_TZctILK",
        "colab": {
          "base_uri": "https://localhost:8080/"
        },
        "outputId": "6a6c6e6b-77f3-4a39-fee8-5b44bd3af085"
      },
      "execution_count": null,
      "outputs": [
        {
          "output_type": "execute_result",
          "data": {
            "text/plain": [
              "array([[9, 7, 5],\n",
              "       [0, 3, 4]])"
            ]
          },
          "metadata": {},
          "execution_count": 34
        }
      ]
    },
    {
      "cell_type": "code",
      "source": [
        "x2[0:3,::2]"
      ],
      "metadata": {
        "id": "EgpDm7Q_tluk",
        "colab": {
          "base_uri": "https://localhost:8080/"
        },
        "outputId": "6558b284-38cd-473c-f3be-1b2ea5d61582"
      },
      "execution_count": null,
      "outputs": [
        {
          "output_type": "execute_result",
          "data": {
            "text/plain": [
              "array([[9, 5],\n",
              "       [0, 4],\n",
              "       [9, 3]])"
            ]
          },
          "metadata": {},
          "execution_count": 35
        }
      ]
    },
    {
      "cell_type": "code",
      "source": [
        "x2[:,0]#first column"
      ],
      "metadata": {
        "id": "VyGbKjDOt8r6",
        "colab": {
          "base_uri": "https://localhost:8080/"
        },
        "outputId": "c0d04c23-ad6b-4264-f979-90e8c35a18e6"
      },
      "execution_count": null,
      "outputs": [
        {
          "output_type": "execute_result",
          "data": {
            "text/plain": [
              "array([9, 0, 9])"
            ]
          },
          "metadata": {},
          "execution_count": 36
        }
      ]
    },
    {
      "cell_type": "code",
      "source": [
        "x2[0,:]#First row"
      ],
      "metadata": {
        "id": "H1R4PEKMuPLV",
        "colab": {
          "base_uri": "https://localhost:8080/"
        },
        "outputId": "7b47df4e-95d8-446c-fd03-9210675e5972"
      },
      "execution_count": null,
      "outputs": [
        {
          "output_type": "execute_result",
          "data": {
            "text/plain": [
              "array([9, 7, 5, 0])"
            ]
          },
          "metadata": {},
          "execution_count": 37
        }
      ]
    },
    {
      "cell_type": "code",
      "source": [
        "x2"
      ],
      "metadata": {
        "id": "H--Hqi06O9HC",
        "colab": {
          "base_uri": "https://localhost:8080/"
        },
        "outputId": "f5fbf1b9-c29e-4c6a-ab8f-f5b13c86fd64"
      },
      "execution_count": null,
      "outputs": [
        {
          "output_type": "execute_result",
          "data": {
            "text/plain": [
              "array([[9, 7, 5, 0],\n",
              "       [0, 3, 4, 7],\n",
              "       [9, 8, 3, 8]])"
            ]
          },
          "metadata": {},
          "execution_count": 38
        }
      ]
    },
    {
      "cell_type": "code",
      "source": [
        "x2_sub_a=x2[:1,:2]#one row and two column are sliced and stored in another variable\n",
        "print(x2_sub_a)"
      ],
      "metadata": {
        "id": "rCuv4LNsu3Wz",
        "colab": {
          "base_uri": "https://localhost:8080/"
        },
        "outputId": "8756863a-cb0d-4959-8cf3-b2bb4cba98ab"
      },
      "execution_count": null,
      "outputs": [
        {
          "output_type": "stream",
          "name": "stdout",
          "text": [
            "[[9 7]]\n"
          ]
        }
      ]
    },
    {
      "cell_type": "code",
      "source": [
        "x2_sub_a[0,0]=15\n",
        "print(x2_sub_a)"
      ],
      "metadata": {
        "id": "ugOWsbm9vnFC",
        "colab": {
          "base_uri": "https://localhost:8080/"
        },
        "outputId": "851c16d0-8d07-4853-b6d3-297945d62bba"
      },
      "execution_count": null,
      "outputs": [
        {
          "output_type": "stream",
          "name": "stdout",
          "text": [
            "[[15  7]]\n"
          ]
        }
      ]
    },
    {
      "cell_type": "code",
      "source": [
        "x2"
      ],
      "metadata": {
        "id": "2xoDqGlTv0QL",
        "colab": {
          "base_uri": "https://localhost:8080/"
        },
        "outputId": "aaf9a6d4-0a0b-4bfb-99f6-611c70d135ba"
      },
      "execution_count": null,
      "outputs": [
        {
          "output_type": "execute_result",
          "data": {
            "text/plain": [
              "array([[15,  7,  5,  0],\n",
              "       [ 0,  3,  4,  7],\n",
              "       [ 9,  8,  3,  8]])"
            ]
          },
          "metadata": {},
          "execution_count": 42
        }
      ]
    },
    {
      "cell_type": "code",
      "source": [
        "x2_sub_a_copy=x2[:1,:2].copy()#for copying the slice\n",
        "print(x2_sub_a_copy)"
      ],
      "metadata": {
        "id": "PpE6t3vVv7ko",
        "colab": {
          "base_uri": "https://localhost:8080/"
        },
        "outputId": "1b02ba7f-85b2-4a94-8533-017b8e18b728"
      },
      "execution_count": null,
      "outputs": [
        {
          "output_type": "stream",
          "name": "stdout",
          "text": [
            "[[15  7]]\n"
          ]
        }
      ]
    },
    {
      "cell_type": "code",
      "source": [
        "x2_sub_a_copy[0,0]=25\n",
        "print(x2_sub_a_copy)"
      ],
      "metadata": {
        "id": "ddtAr_-CwMuo",
        "colab": {
          "base_uri": "https://localhost:8080/"
        },
        "outputId": "ca1cfd5c-20f3-4a71-bea8-7f8d6cb8c99a"
      },
      "execution_count": null,
      "outputs": [
        {
          "output_type": "stream",
          "name": "stdout",
          "text": [
            "[[25  7]]\n"
          ]
        }
      ]
    },
    {
      "cell_type": "code",
      "source": [
        "x2"
      ],
      "metadata": {
        "id": "Y-T0oiKuwVm9",
        "colab": {
          "base_uri": "https://localhost:8080/"
        },
        "outputId": "3fa78b52-b6ca-4f08-c26d-6d766dca9935"
      },
      "execution_count": null,
      "outputs": [
        {
          "output_type": "execute_result",
          "data": {
            "text/plain": [
              "array([[15,  7,  5,  0],\n",
              "       [ 0,  3,  4,  7],\n",
              "       [ 9,  8,  3,  8]])"
            ]
          },
          "metadata": {},
          "execution_count": 46
        }
      ]
    },
    {
      "cell_type": "markdown",
      "source": [
        "# 4. Reshaping of Arrays"
      ],
      "metadata": {
        "id": "295HJJvbwfg7"
      }
    },
    {
      "cell_type": "code",
      "source": [
        "x5=np.arange(0,15)\n",
        "print(x5)"
      ],
      "metadata": {
        "id": "uxfjuduTwbAa",
        "colab": {
          "base_uri": "https://localhost:8080/"
        },
        "outputId": "e84a1c5a-5e8b-4d15-843c-2a8d1f4fd444"
      },
      "execution_count": null,
      "outputs": [
        {
          "output_type": "stream",
          "name": "stdout",
          "text": [
            "[ 0  1  2  3  4  5  6  7  8  9 10 11 12 13 14]\n"
          ]
        }
      ]
    },
    {
      "cell_type": "code",
      "source": [
        "x5.reshape((3,5))"
      ],
      "metadata": {
        "id": "Y-W-JqR71rdZ",
        "colab": {
          "base_uri": "https://localhost:8080/"
        },
        "outputId": "efa589c6-e961-4115-c364-936d817dce98"
      },
      "execution_count": null,
      "outputs": [
        {
          "output_type": "execute_result",
          "data": {
            "text/plain": [
              "array([[ 0,  1,  2,  3,  4],\n",
              "       [ 5,  6,  7,  8,  9],\n",
              "       [10, 11, 12, 13, 14]])"
            ]
          },
          "metadata": {},
          "execution_count": 48
        }
      ]
    },
    {
      "cell_type": "code",
      "source": [
        "x6=np.arange(0,6).reshape((2,3))\n",
        "print(x6)"
      ],
      "metadata": {
        "id": "fP_dcYmu1z1z",
        "colab": {
          "base_uri": "https://localhost:8080/"
        },
        "outputId": "2edce8c2-8743-42f2-de0e-9b896ef939d0"
      },
      "execution_count": null,
      "outputs": [
        {
          "output_type": "stream",
          "name": "stdout",
          "text": [
            "[[0 1 2]\n",
            " [3 4 5]]\n"
          ]
        }
      ]
    },
    {
      "cell_type": "code",
      "source": [
        "x6.reshape((6,1))"
      ],
      "metadata": {
        "id": "AZmrPF-xQhGe",
        "colab": {
          "base_uri": "https://localhost:8080/"
        },
        "outputId": "7a018122-dc03-46ea-9e4c-b138597eff0d"
      },
      "execution_count": null,
      "outputs": [
        {
          "output_type": "execute_result",
          "data": {
            "text/plain": [
              "array([[0],\n",
              "       [1],\n",
              "       [2],\n",
              "       [3],\n",
              "       [4],\n",
              "       [5]])"
            ]
          },
          "metadata": {},
          "execution_count": 50
        }
      ]
    },
    {
      "cell_type": "code",
      "source": [
        "x7=np.arange(5)\n",
        "print(x7)\n",
        "x7[:, np.newaxis]\n",
        "#x7[np.newaxis,:]\n"
      ],
      "metadata": {
        "id": "mzZ4D8452szT",
        "colab": {
          "base_uri": "https://localhost:8080/"
        },
        "outputId": "faec31f7-e69c-4a57-8b09-1760e93b4225"
      },
      "execution_count": null,
      "outputs": [
        {
          "output_type": "stream",
          "name": "stdout",
          "text": [
            "[0 1 2 3 4]\n"
          ]
        },
        {
          "output_type": "execute_result",
          "data": {
            "text/plain": [
              "array([[0],\n",
              "       [1],\n",
              "       [2],\n",
              "       [3],\n",
              "       [4]])"
            ]
          },
          "metadata": {},
          "execution_count": 51
        }
      ]
    },
    {
      "cell_type": "markdown",
      "source": [
        "# 5. Joining and Splitting of Arrays"
      ],
      "metadata": {
        "id": "xaopXAu75hYA"
      }
    },
    {
      "cell_type": "code",
      "source": [
        "array1=np.array([1,2,3])\n",
        "array2=np.arange(5,10,2)\n",
        "print(array1)\n",
        "print(array2)\n",
        "np.concatenate([array1,array2])"
      ],
      "metadata": {
        "id": "YHIUDqcY5mry",
        "colab": {
          "base_uri": "https://localhost:8080/"
        },
        "outputId": "6c82bd04-9f05-44ea-dc73-46a8f01dd41b"
      },
      "execution_count": null,
      "outputs": [
        {
          "output_type": "stream",
          "name": "stdout",
          "text": [
            "[1 2 3]\n",
            "[5 7 9]\n"
          ]
        },
        {
          "output_type": "execute_result",
          "data": {
            "text/plain": [
              "array([1, 2, 3, 5, 7, 9])"
            ]
          },
          "metadata": {},
          "execution_count": 52
        }
      ]
    },
    {
      "cell_type": "code",
      "source": [
        "array3=np.arange(1,10).reshape((3,3))\n",
        "print(array3)"
      ],
      "metadata": {
        "id": "-g4ngu4m6je8",
        "colab": {
          "base_uri": "https://localhost:8080/"
        },
        "outputId": "55a21138-7871-4d79-d4a6-f7d5b2ae84ff"
      },
      "execution_count": null,
      "outputs": [
        {
          "output_type": "stream",
          "name": "stdout",
          "text": [
            "[[1 2 3]\n",
            " [4 5 6]\n",
            " [7 8 9]]\n"
          ]
        }
      ]
    },
    {
      "cell_type": "code",
      "source": [
        "np.vstack([array1,array3])"
      ],
      "metadata": {
        "id": "UMIbW1Gp7Syy",
        "colab": {
          "base_uri": "https://localhost:8080/"
        },
        "outputId": "512924f6-455b-4b84-9f2a-75843bda302e"
      },
      "execution_count": null,
      "outputs": [
        {
          "output_type": "execute_result",
          "data": {
            "text/plain": [
              "array([[1, 2, 3],\n",
              "       [1, 2, 3],\n",
              "       [4, 5, 6],\n",
              "       [7, 8, 9]])"
            ]
          },
          "metadata": {},
          "execution_count": 54
        }
      ]
    },
    {
      "cell_type": "code",
      "source": [
        "array4=np.array([[5],[6],[7]])\n",
        "np.hstack([array3,array4])"
      ],
      "metadata": {
        "id": "ui8yKpks72Cx",
        "colab": {
          "base_uri": "https://localhost:8080/"
        },
        "outputId": "89ab291e-d517-4301-dd83-d8b64849280d"
      },
      "execution_count": null,
      "outputs": [
        {
          "output_type": "execute_result",
          "data": {
            "text/plain": [
              "array([[1, 2, 3, 5],\n",
              "       [4, 5, 6, 6],\n",
              "       [7, 8, 9, 7]])"
            ]
          },
          "metadata": {},
          "execution_count": 55
        }
      ]
    },
    {
      "cell_type": "markdown",
      "source": [
        "Splitting of Arrays"
      ],
      "metadata": {
        "id": "W7I4B7-_c_05"
      }
    },
    {
      "cell_type": "code",
      "source": [
        "array_s1=np.arange(0,15,1)\n",
        "print(array_s1)"
      ],
      "metadata": {
        "id": "_C0Bcf7p9De0",
        "colab": {
          "base_uri": "https://localhost:8080/"
        },
        "outputId": "8c469566-3b1d-4afa-c0dc-2a0f4fd8f37c"
      },
      "execution_count": null,
      "outputs": [
        {
          "output_type": "stream",
          "name": "stdout",
          "text": [
            "[ 0  1  2  3  4  5  6  7  8  9 10 11 12 13 14]\n"
          ]
        }
      ]
    },
    {
      "cell_type": "code",
      "source": [
        "arr1,arr2,arr3 =np.split(array_s1,3)\n",
        "print(arr1,arr2,arr3)"
      ],
      "metadata": {
        "id": "OEmXZYaZ9m6q",
        "colab": {
          "base_uri": "https://localhost:8080/"
        },
        "outputId": "c357bace-89fc-4eec-ee8f-a6b89f095f0f"
      },
      "execution_count": null,
      "outputs": [
        {
          "output_type": "stream",
          "name": "stdout",
          "text": [
            "[0 1 2 3 4] [5 6 7 8 9] [10 11 12 13 14]\n"
          ]
        }
      ]
    },
    {
      "cell_type": "code",
      "source": [
        "array_s01=np.arange(0,17,1)\n",
        "print(array_s01)\n",
        "a1,a2,a3,a4 = np.split(array_s01,[5,7,10])\n",
        "print(a1,a2,a3,a4)"
      ],
      "metadata": {
        "colab": {
          "base_uri": "https://localhost:8080/"
        },
        "id": "NDxYpx5ZdPww",
        "outputId": "cbe13e3d-84af-4d98-b553-7e291ba01764"
      },
      "execution_count": null,
      "outputs": [
        {
          "output_type": "stream",
          "name": "stdout",
          "text": [
            "[ 0  1  2  3  4  5  6  7  8  9 10 11 12 13 14 15 16]\n",
            "[0 1 2 3 4] [5 6] [7 8 9] [10 11 12 13 14 15 16]\n"
          ]
        }
      ]
    },
    {
      "cell_type": "code",
      "source": [
        "grid = np.arange(16).reshape((4, 4))\n",
        "print(grid)\n"
      ],
      "metadata": {
        "id": "BNt2O38XSHqE",
        "colab": {
          "base_uri": "https://localhost:8080/"
        },
        "outputId": "0a3a85e3-614a-4fc1-b4ca-0f1137fa64ad"
      },
      "execution_count": null,
      "outputs": [
        {
          "output_type": "stream",
          "name": "stdout",
          "text": [
            "[[ 0  1  2  3]\n",
            " [ 4  5  6  7]\n",
            " [ 8  9 10 11]\n",
            " [12 13 14 15]]\n"
          ]
        }
      ]
    },
    {
      "cell_type": "code",
      "source": [
        "upper, lower = np.vsplit(grid, [2])\n",
        "print(upper)\n",
        "print(lower)"
      ],
      "metadata": {
        "id": "q0GwiiP-SIer",
        "colab": {
          "base_uri": "https://localhost:8080/"
        },
        "outputId": "f63d974d-6315-41d1-e4d4-564875f3c9b2"
      },
      "execution_count": null,
      "outputs": [
        {
          "output_type": "stream",
          "name": "stdout",
          "text": [
            "[[0 1 2 3]\n",
            " [4 5 6 7]]\n",
            "[[ 8  9 10 11]\n",
            " [12 13 14 15]]\n"
          ]
        }
      ]
    },
    {
      "cell_type": "code",
      "source": [],
      "metadata": {
        "id": "dMAJz0R8STtf"
      },
      "execution_count": null,
      "outputs": []
    }
  ]
}